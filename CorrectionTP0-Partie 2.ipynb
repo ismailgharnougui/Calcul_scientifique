{
 "cells": [
  {
   "cell_type": "markdown",
   "metadata": {
    "id": "Bs9JnKJ-0s04"
   },
   "source": [
    "# Initiation à la programmation sous Python pour le calcul scientifique (partie 2)"
   ]
  },
  {
   "cell_type": "markdown",
   "metadata": {
    "id": "8gPsAzyZ0s1E"
   },
   "source": [
    "# Partie I : Manipulation des matrices\n",
    "\n"
   ]
  },
  {
   "cell_type": "markdown",
   "metadata": {
    "id": "slAT04Ty0s1G"
   },
   "source": [
    "Nous importons le module `numpy` qui permet de manipuler les vecteurs, entre autres les matrices, et qui contient de \n",
    "\n",
    "différentes fonctions mathématiques.\n",
    "\n",
    "Le contenu de ce package est donné par la commande ```dir(numpy)``` après l'avoir importé bien évidemment."
   ]
  },
  {
   "cell_type": "code",
   "execution_count": 1,
   "metadata": {
    "executionInfo": {
     "elapsed": 785,
     "status": "ok",
     "timestamp": 1633082264634,
     "user": {
      "displayName": "Bilel Charfi",
      "photoUrl": "https://lh3.googleusercontent.com/a-/AOh14GiwZ0IqhBxzHZ-ghqODbdAGcqAm32dDwZNnRvMz=s64",
      "userId": "09763497550800656523"
     },
     "user_tz": -60
    },
    "id": "IBuzc29t0s1J"
   },
   "outputs": [],
   "source": [
    "import numpy as np \n",
    "#dir(np)\n",
    "# L'appelation des fonctions se fait en tappant np.le_nom_de_la_fonction"
   ]
  },
  {
   "cell_type": "markdown",
   "metadata": {
    "id": "u5wLHAQM0s1N"
   },
   "source": [
    "## Déclaration et affichage d'une matrice  \n",
    "1. Déclarer la matrice suivante:\n",
    " $$A=\\begin{pmatrix}\n",
    "      4 & 3 & 3 & 3 \\\\\n",
    "      2 & 4 & 3 & 3 \\\\\n",
    "      2 & 2 & 4 & \\pi \\\\\n",
    "      2 & 2 & 2 & 0.5\\\\\n",
    "    \\end{pmatrix}$$\n",
    "    \n",
    "$\\Rightarrow$ Pour déclarer la matrice $A$, on utilise `np.array(liste[listes])`, chaque liste est une ligne de la matrice $A$."
   ]
  },
  {
   "cell_type": "code",
   "execution_count": 2,
   "metadata": {
    "executionInfo": {
     "elapsed": 350,
     "status": "ok",
     "timestamp": 1633082447118,
     "user": {
      "displayName": "Bilel Charfi",
      "photoUrl": "https://lh3.googleusercontent.com/a-/AOh14GiwZ0IqhBxzHZ-ghqODbdAGcqAm32dDwZNnRvMz=s64",
      "userId": "09763497550800656523"
     },
     "user_tz": -60
    },
    "id": "KhDr_GPq0s1O"
   },
   "outputs": [],
   "source": [
    "#réponse\n",
    "A=np.array([[4,3,3,3],[2, 4, 3, 3],[2,2,4,np.pi], [2, 2, 2, 0.5]]) # une matrice, est déclarée comme une liste de listes "
   ]
  },
  {
   "cell_type": "markdown",
   "metadata": {
    "id": "yh-XCcYB0s1Q"
   },
   "source": [
    "2. Afficher la matrice $A$ anisi que son type."
   ]
  },
  {
   "cell_type": "code",
   "execution_count": 3,
   "metadata": {
    "colab": {
     "base_uri": "https://localhost:8080/"
    },
    "executionInfo": {
     "elapsed": 355,
     "status": "ok",
     "timestamp": 1633082451464,
     "user": {
      "displayName": "Bilel Charfi",
      "photoUrl": "https://lh3.googleusercontent.com/a-/AOh14GiwZ0IqhBxzHZ-ghqODbdAGcqAm32dDwZNnRvMz=s64",
      "userId": "09763497550800656523"
     },
     "user_tz": -60
    },
    "id": "AheHP-2k0s1S",
    "outputId": "362b826d-3cde-4c5d-df7a-553be706c86b"
   },
   "outputs": [
    {
     "name": "stdout",
     "output_type": "stream",
     "text": [
      "[[4.         3.         3.         3.        ]\n",
      " [2.         4.         3.         3.        ]\n",
      " [2.         2.         4.         3.14159265]\n",
      " [2.         2.         2.         0.5       ]] <class 'numpy.ndarray'>\n"
     ]
    }
   ],
   "source": [
    "print(A, type(A))"
   ]
  },
  {
   "cell_type": "markdown",
   "metadata": {
    "id": "JsFUkSD40s1V"
   },
   "source": [
    "3. Afficher la dimension de $A$ en utilsiant la commande ``shape()`` puis par `np.shape()`"
   ]
  },
  {
   "cell_type": "code",
   "execution_count": 4,
   "metadata": {
    "colab": {
     "base_uri": "https://localhost:8080/"
    },
    "executionInfo": {
     "elapsed": 352,
     "status": "ok",
     "timestamp": 1633082499542,
     "user": {
      "displayName": "Bilel Charfi",
      "photoUrl": "https://lh3.googleusercontent.com/a-/AOh14GiwZ0IqhBxzHZ-ghqODbdAGcqAm32dDwZNnRvMz=s64",
      "userId": "09763497550800656523"
     },
     "user_tz": -60
    },
    "id": "UGA_c1980s1X",
    "outputId": "772a1ce0-f1dd-4489-f1b5-974114c59590"
   },
   "outputs": [
    {
     "data": {
      "text/plain": [
       "(4, 4)"
      ]
     },
     "execution_count": 4,
     "metadata": {},
     "output_type": "execute_result"
    }
   ],
   "source": [
    "#réponse\n",
    "#print(A.shape)\n",
    "#ou bien on utilise\n",
    "np.shape(A)"
   ]
  },
  {
   "cell_type": "markdown",
   "metadata": {
    "id": "RI2zu2eG0s1Y"
   },
   "source": [
    "## Opérations sur les matrices\n",
    "1. Afficher les élements $0$, $0.5$ et $\\pi$ de la matrice $A$.\n"
   ]
  },
  {
   "cell_type": "code",
   "execution_count": 5,
   "metadata": {
    "colab": {
     "base_uri": "https://localhost:8080/"
    },
    "executionInfo": {
     "elapsed": 347,
     "status": "ok",
     "timestamp": 1633082531087,
     "user": {
      "displayName": "Bilel Charfi",
      "photoUrl": "https://lh3.googleusercontent.com/a-/AOh14GiwZ0IqhBxzHZ-ghqODbdAGcqAm32dDwZNnRvMz=s64",
      "userId": "09763497550800656523"
     },
     "user_tz": -60
    },
    "id": "aL8TH3WX0s1b",
    "outputId": "a8124e2d-a0a6-4fc2-9f93-b8ab8a027ed7"
   },
   "outputs": [
    {
     "name": "stdout",
     "output_type": "stream",
     "text": [
      "4.0\n",
      "3.141592653589793\n",
      "0.5\n"
     ]
    }
   ],
   "source": [
    "#Executer et commenter\n",
    "print(A[0,0])\n",
    "print(A[2,3])\n",
    "print(A[3,3])"
   ]
  },
  {
   "cell_type": "markdown",
   "metadata": {
    "id": "B7QxP2PY0s1d"
   },
   "source": [
    "**Remarque :**\n",
    "\n",
    "Les compteurs des lignes et des colonnes commencent par 0."
   ]
  },
  {
   "cell_type": "markdown",
   "metadata": {
    "id": "Jl8r1LEh0s1d"
   },
   "source": [
    "2. Afficher $V$ la sous matrice de $A$ formée  par la deuxième colonne de $A$.\n",
    "\n",
    "- `A[:,n:m]` est une sous matrice de $A$ avec `:` represente toutes les lignes et `n:m` represente les colonnes de $n$ à $m-1$."
   ]
  },
  {
   "cell_type": "code",
   "execution_count": 6,
   "metadata": {
    "colab": {
     "base_uri": "https://localhost:8080/"
    },
    "executionInfo": {
     "elapsed": 545,
     "status": "ok",
     "timestamp": 1633082624188,
     "user": {
      "displayName": "Bilel Charfi",
      "photoUrl": "https://lh3.googleusercontent.com/a-/AOh14GiwZ0IqhBxzHZ-ghqODbdAGcqAm32dDwZNnRvMz=s64",
      "userId": "09763497550800656523"
     },
     "user_tz": -60
    },
    "id": "lvcbZCe30s1e",
    "outputId": "f7605eb4-01a3-4c0f-bdea-4e339f0c7794"
   },
   "outputs": [
    {
     "name": "stdout",
     "output_type": "stream",
     "text": [
      "[[3.]\n",
      " [4.]\n",
      " [2.]\n",
      " [2.]]\n"
     ]
    }
   ],
   "source": [
    "#Completer et executer\n",
    "V=A[:,1:2]\n",
    "print(V)"
   ]
  },
  {
   "cell_type": "markdown",
   "metadata": {
    "id": "5BgPGA8T0s1g"
   },
   "source": [
    "3. Afficher $W$ la sous matrice de $A$ formée  par la deuxième et la troisième colonne de $A$."
   ]
  },
  {
   "cell_type": "code",
   "execution_count": 7,
   "metadata": {
    "colab": {
     "base_uri": "https://localhost:8080/"
    },
    "executionInfo": {
     "elapsed": 457,
     "status": "ok",
     "timestamp": 1633083389185,
     "user": {
      "displayName": "Bilel Charfi",
      "photoUrl": "https://lh3.googleusercontent.com/a-/AOh14GiwZ0IqhBxzHZ-ghqODbdAGcqAm32dDwZNnRvMz=s64",
      "userId": "09763497550800656523"
     },
     "user_tz": -60
    },
    "id": "1aDqmgCO0s1h",
    "outputId": "87864038-f370-46f5-f116-7c6a0ea9549f"
   },
   "outputs": [
    {
     "name": "stdout",
     "output_type": "stream",
     "text": [
      "[[3. 3.]\n",
      " [4. 3.]\n",
      " [2. 4.]\n",
      " [2. 2.]]\n"
     ]
    }
   ],
   "source": [
    "#Completer et executer\n",
    "W=A[:,1:3]\n",
    "print(W)"
   ]
  },
  {
   "cell_type": "markdown",
   "metadata": {
    "id": "JTxFR-Zc0s1j"
   },
   "source": [
    "4. Créer la matrice $B$, une copie de $A$, puis l'afficher."
   ]
  },
  {
   "cell_type": "code",
   "execution_count": 8,
   "metadata": {
    "colab": {
     "base_uri": "https://localhost:8080/"
    },
    "executionInfo": {
     "elapsed": 353,
     "status": "ok",
     "timestamp": 1633082751802,
     "user": {
      "displayName": "Bilel Charfi",
      "photoUrl": "https://lh3.googleusercontent.com/a-/AOh14GiwZ0IqhBxzHZ-ghqODbdAGcqAm32dDwZNnRvMz=s64",
      "userId": "09763497550800656523"
     },
     "user_tz": -60
    },
    "id": "mc1SvKqm0s1k",
    "outputId": "a4ca3fb2-315c-4199-c9ca-c6fd412c28f3"
   },
   "outputs": [
    {
     "name": "stdout",
     "output_type": "stream",
     "text": [
      "[[4.         3.         3.         3.        ]\n",
      " [2.         4.         3.         3.        ]\n",
      " [2.         2.         4.         3.14159265]\n",
      " [2.         2.         2.         0.5       ]]\n"
     ]
    }
   ],
   "source": [
    "B=A.copy()\n",
    "print(B)"
   ]
  },
  {
   "cell_type": "markdown",
   "metadata": {
    "id": "F3rXR_VX0s1l"
   },
   "source": [
    "**Remarque**"
   ]
  },
  {
   "cell_type": "markdown",
   "metadata": {
    "id": "9fgMU7i_0s1m"
   },
   "source": [
    "- `B=A.copy()` entraine la création d'une nouvelle matrice `B` et laisser la matrice `A` intact.\n",
    "- `B=A` entraine que toute modification sur `B` enjendre la même modification sur `A`."
   ]
  },
  {
   "cell_type": "markdown",
   "metadata": {
    "id": "cVJW22i30s1m"
   },
   "source": [
    "5. Remplacer $\\pi$ dans la matrice $B$ par $e$ puis afficher la nouvelle  matrice."
   ]
  },
  {
   "cell_type": "code",
   "execution_count": 9,
   "metadata": {
    "colab": {
     "base_uri": "https://localhost:8080/"
    },
    "executionInfo": {
     "elapsed": 345,
     "status": "ok",
     "timestamp": 1633082767438,
     "user": {
      "displayName": "Bilel Charfi",
      "photoUrl": "https://lh3.googleusercontent.com/a-/AOh14GiwZ0IqhBxzHZ-ghqODbdAGcqAm32dDwZNnRvMz=s64",
      "userId": "09763497550800656523"
     },
     "user_tz": -60
    },
    "id": "g6PB3xfu0s1n",
    "outputId": "f4fc4b08-e0eb-409a-e268-1435e3147f1c"
   },
   "outputs": [
    {
     "name": "stdout",
     "output_type": "stream",
     "text": [
      "[[4.         3.         3.         3.        ]\n",
      " [2.         4.         3.         3.        ]\n",
      " [2.         2.         4.         2.71828183]\n",
      " [2.         2.         2.         0.5       ]]\n"
     ]
    }
   ],
   "source": [
    "#Completer et executer\n",
    "B[2,3]=np.e\n",
    "print(B)"
   ]
  },
  {
   "cell_type": "code",
   "execution_count": 10,
   "metadata": {
    "colab": {
     "base_uri": "https://localhost:8080/"
    },
    "executionInfo": {
     "elapsed": 368,
     "status": "ok",
     "timestamp": 1633082775035,
     "user": {
      "displayName": "Bilel Charfi",
      "photoUrl": "https://lh3.googleusercontent.com/a-/AOh14GiwZ0IqhBxzHZ-ghqODbdAGcqAm32dDwZNnRvMz=s64",
      "userId": "09763497550800656523"
     },
     "user_tz": -60
    },
    "id": "gRx7NGpXUYdX",
    "outputId": "667d9287-9483-4f0a-a8cd-9977dd465a1f"
   },
   "outputs": [
    {
     "data": {
      "text/plain": [
       "array([[4.        , 3.        , 3.        , 3.        ],\n",
       "       [2.        , 4.        , 3.        , 3.        ],\n",
       "       [2.        , 2.        , 4.        , 3.14159265],\n",
       "       [2.        , 2.        , 2.        , 0.5       ]])"
      ]
     },
     "execution_count": 10,
     "metadata": {},
     "output_type": "execute_result"
    }
   ],
   "source": [
    "A"
   ]
  },
  {
   "cell_type": "markdown",
   "metadata": {
    "id": "kxe9FG4C0s1o"
   },
   "source": [
    "6. Remplacer la quatrième ligne de la matrice $B$ par  le vecteur $[1,1,1,1]$ puis afficher la nouvelle  matrice."
   ]
  },
  {
   "cell_type": "code",
   "execution_count": 11,
   "metadata": {
    "colab": {
     "base_uri": "https://localhost:8080/"
    },
    "executionInfo": {
     "elapsed": 376,
     "status": "ok",
     "timestamp": 1633082830576,
     "user": {
      "displayName": "Bilel Charfi",
      "photoUrl": "https://lh3.googleusercontent.com/a-/AOh14GiwZ0IqhBxzHZ-ghqODbdAGcqAm32dDwZNnRvMz=s64",
      "userId": "09763497550800656523"
     },
     "user_tz": -60
    },
    "id": "EXKzErzI0s1p",
    "outputId": "37b9902c-aa22-476a-bd47-3d8a59b06ff5"
   },
   "outputs": [
    {
     "name": "stdout",
     "output_type": "stream",
     "text": [
      "[[4.         3.         3.         3.        ]\n",
      " [2.         4.         3.         3.        ]\n",
      " [2.         2.         4.         2.71828183]\n",
      " [1.         1.         1.         1.        ]]\n"
     ]
    }
   ],
   "source": [
    "#Completer et executer\n",
    "B[3,:]=[1,1,1,1] \n",
    "print(B)"
   ]
  },
  {
   "cell_type": "code",
   "execution_count": 12,
   "metadata": {
    "colab": {
     "base_uri": "https://localhost:8080/"
    },
    "executionInfo": {
     "elapsed": 358,
     "status": "ok",
     "timestamp": 1633082989202,
     "user": {
      "displayName": "Bilel Charfi",
      "photoUrl": "https://lh3.googleusercontent.com/a-/AOh14GiwZ0IqhBxzHZ-ghqODbdAGcqAm32dDwZNnRvMz=s64",
      "userId": "09763497550800656523"
     },
     "user_tz": -60
    },
    "id": "dV7JeIFDU9Fk",
    "outputId": "585b5d8e-2f3e-4878-968f-9d92355b8f24"
   },
   "outputs": [
    {
     "data": {
      "text/plain": [
       "array([[4., 3., 3., 0.],\n",
       "       [2., 4., 3., 1.],\n",
       "       [2., 2., 4., 3.],\n",
       "       [1., 1., 1., 6.]])"
      ]
     },
     "execution_count": 12,
     "metadata": {},
     "output_type": "execute_result"
    }
   ],
   "source": [
    "B[:,3]=[0,1,3,6]\n",
    "B"
   ]
  },
  {
   "cell_type": "markdown",
   "metadata": {
    "id": "l9xVA1GV0s1r"
   },
   "source": [
    "7. Afficher la diagonale de $A$."
   ]
  },
  {
   "cell_type": "code",
   "execution_count": 13,
   "metadata": {
    "colab": {
     "base_uri": "https://localhost:8080/"
    },
    "executionInfo": {
     "elapsed": 375,
     "status": "ok",
     "timestamp": 1633083193835,
     "user": {
      "displayName": "Bilel Charfi",
      "photoUrl": "https://lh3.googleusercontent.com/a-/AOh14GiwZ0IqhBxzHZ-ghqODbdAGcqAm32dDwZNnRvMz=s64",
      "userId": "09763497550800656523"
     },
     "user_tz": -60
    },
    "id": "URUbVnUQ0s1s",
    "outputId": "05d3df4e-8be5-41ae-a77c-c3866b811281"
   },
   "outputs": [
    {
     "data": {
      "text/plain": [
       "array([4., 4., 4., 6.])"
      ]
     },
     "execution_count": 13,
     "metadata": {},
     "output_type": "execute_result"
    }
   ],
   "source": [
    "C=np.diag(B)\n",
    "C"
   ]
  },
  {
   "cell_type": "markdown",
   "metadata": {
    "id": "C0lSpw6C0s1t"
   },
   "source": [
    "8. Afficher la première sous diagonale de $A$."
   ]
  },
  {
   "cell_type": "code",
   "execution_count": 14,
   "metadata": {
    "colab": {
     "base_uri": "https://localhost:8080/"
    },
    "executionInfo": {
     "elapsed": 374,
     "status": "ok",
     "timestamp": 1633083245643,
     "user": {
      "displayName": "Bilel Charfi",
      "photoUrl": "https://lh3.googleusercontent.com/a-/AOh14GiwZ0IqhBxzHZ-ghqODbdAGcqAm32dDwZNnRvMz=s64",
      "userId": "09763497550800656523"
     },
     "user_tz": -60
    },
    "id": "X_-A-UXi0s1u",
    "outputId": "8ebd20b2-a684-4a67-ebaa-bb3fffcd1809"
   },
   "outputs": [
    {
     "name": "stdout",
     "output_type": "stream",
     "text": [
      "[2. 2. 2.]\n"
     ]
    }
   ],
   "source": [
    "print(np.diag(A,-1) )\n",
    "\n",
    "#print(A)"
   ]
  },
  {
   "cell_type": "markdown",
   "metadata": {
    "id": "92K4Q5p70s1v"
   },
   "source": [
    "9. Afficher la deuxième sur diagonale de $A$."
   ]
  },
  {
   "cell_type": "code",
   "execution_count": 15,
   "metadata": {
    "colab": {
     "base_uri": "https://localhost:8080/"
    },
    "executionInfo": {
     "elapsed": 380,
     "status": "ok",
     "timestamp": 1633083283278,
     "user": {
      "displayName": "Bilel Charfi",
      "photoUrl": "https://lh3.googleusercontent.com/a-/AOh14GiwZ0IqhBxzHZ-ghqODbdAGcqAm32dDwZNnRvMz=s64",
      "userId": "09763497550800656523"
     },
     "user_tz": -60
    },
    "id": "sK4qBlK70s1v",
    "outputId": "07d4113a-f1fa-452f-a31a-44980ceeed1a"
   },
   "outputs": [
    {
     "name": "stdout",
     "output_type": "stream",
     "text": [
      "[3. 3.]\n",
      "[[4.         3.         3.         3.        ]\n",
      " [2.         4.         3.         3.        ]\n",
      " [2.         2.         4.         3.14159265]\n",
      " [2.         2.         2.         0.5       ]]\n"
     ]
    }
   ],
   "source": [
    "print(np.diag(A,2) )\n",
    "print(A)"
   ]
  },
  {
   "cell_type": "markdown",
   "metadata": {
    "id": "MRaeRyH10s1w"
   },
   "source": [
    "10. Afficher la matrice triangulaire inférieure associée à $A$."
   ]
  },
  {
   "cell_type": "code",
   "execution_count": 16,
   "metadata": {
    "colab": {
     "base_uri": "https://localhost:8080/"
    },
    "executionInfo": {
     "elapsed": 489,
     "status": "ok",
     "timestamp": 1633083334591,
     "user": {
      "displayName": "Bilel Charfi",
      "photoUrl": "https://lh3.googleusercontent.com/a-/AOh14GiwZ0IqhBxzHZ-ghqODbdAGcqAm32dDwZNnRvMz=s64",
      "userId": "09763497550800656523"
     },
     "user_tz": -60
    },
    "id": "BUlqIueW0s1x",
    "outputId": "f00909e2-221d-4b91-bd14-7b6ceaa37360"
   },
   "outputs": [
    {
     "name": "stdout",
     "output_type": "stream",
     "text": [
      "[[4.  0.  0.  0. ]\n",
      " [2.  4.  0.  0. ]\n",
      " [2.  2.  4.  0. ]\n",
      " [2.  2.  2.  0.5]]\n"
     ]
    }
   ],
   "source": [
    "print(np.tril(A)) # l=lower"
   ]
  },
  {
   "cell_type": "markdown",
   "metadata": {
    "id": "l4yTYG000s1y"
   },
   "source": [
    "11. Afficher la matrice triangulaire supérieure associée à $A$."
   ]
  },
  {
   "cell_type": "code",
   "execution_count": 17,
   "metadata": {
    "colab": {
     "base_uri": "https://localhost:8080/"
    },
    "executionInfo": {
     "elapsed": 361,
     "status": "ok",
     "timestamp": 1633083498353,
     "user": {
      "displayName": "Bilel Charfi",
      "photoUrl": "https://lh3.googleusercontent.com/a-/AOh14GiwZ0IqhBxzHZ-ghqODbdAGcqAm32dDwZNnRvMz=s64",
      "userId": "09763497550800656523"
     },
     "user_tz": -60
    },
    "id": "mOWu1bLT0s10",
    "outputId": "e6c79c7a-de4c-4f52-c1cc-b05ed90a9451"
   },
   "outputs": [
    {
     "name": "stdout",
     "output_type": "stream",
     "text": [
      "[[4.         3.         3.         3.        ]\n",
      " [0.         4.         3.         3.        ]\n",
      " [0.         0.         4.         3.14159265]\n",
      " [0.         0.         0.         0.5       ]]\n"
     ]
    }
   ],
   "source": [
    "print(np.triu(A)) #u=upper"
   ]
  },
  {
   "cell_type": "markdown",
   "metadata": {
    "id": "64RDfOQc0s11"
   },
   "source": [
    "12. Calculer les produits matriciels  $A*V$, $A*W$, $A^2$ et $A^5$."
   ]
  },
  {
   "cell_type": "code",
   "execution_count": 18,
   "metadata": {
    "colab": {
     "base_uri": "https://localhost:8080/"
    },
    "executionInfo": {
     "elapsed": 368,
     "status": "ok",
     "timestamp": 1633083371434,
     "user": {
      "displayName": "Bilel Charfi",
      "photoUrl": "https://lh3.googleusercontent.com/a-/AOh14GiwZ0IqhBxzHZ-ghqODbdAGcqAm32dDwZNnRvMz=s64",
      "userId": "09763497550800656523"
     },
     "user_tz": -60
    },
    "id": "e_kqorpc0s11",
    "outputId": "9262b57f-a1c4-46ec-fd06-1b4c7d0622f9"
   },
   "outputs": [
    {
     "data": {
      "text/plain": [
       "array([[36.        ],\n",
       "       [34.        ],\n",
       "       [28.28318531],\n",
       "       [19.        ]])"
      ]
     },
     "execution_count": 18,
     "metadata": {},
     "output_type": "execute_result"
    }
   ],
   "source": [
    "A.dot(V)# A*V"
   ]
  },
  {
   "cell_type": "code",
   "execution_count": 19,
   "metadata": {
    "colab": {
     "base_uri": "https://localhost:8080/"
    },
    "executionInfo": {
     "elapsed": 384,
     "status": "ok",
     "timestamp": 1633083401567,
     "user": {
      "displayName": "Bilel Charfi",
      "photoUrl": "https://lh3.googleusercontent.com/a-/AOh14GiwZ0IqhBxzHZ-ghqODbdAGcqAm32dDwZNnRvMz=s64",
      "userId": "09763497550800656523"
     },
     "user_tz": -60
    },
    "id": "H9uJhSjq0s12",
    "outputId": "f0b337ea-c876-4c1f-ee90-ca7e4bbe5afa"
   },
   "outputs": [
    {
     "data": {
      "text/plain": [
       "array([[36.        , 39.        ],\n",
       "       [34.        , 36.        ],\n",
       "       [28.28318531, 34.28318531],\n",
       "       [19.        , 21.        ]])"
      ]
     },
     "execution_count": 19,
     "metadata": {},
     "output_type": "execute_result"
    }
   ],
   "source": [
    "A.dot(W)#A* W"
   ]
  },
  {
   "cell_type": "code",
   "execution_count": 20,
   "metadata": {
    "colab": {
     "base_uri": "https://localhost:8080/"
    },
    "executionInfo": {
     "elapsed": 130,
     "status": "ok",
     "timestamp": 1632739072418,
     "user": {
      "displayName": "Aymen HASSIN",
      "photoUrl": "https://lh3.googleusercontent.com/a/default-user=s64",
      "userId": "11628973066225089700"
     },
     "user_tz": -120
    },
    "id": "0TMRDELP0s12",
    "outputId": "c09285f4-0daf-4856-b5ac-f1269a1f9109"
   },
   "outputs": [
    {
     "data": {
      "text/plain": [
       "array([[16.       ,  9.       ,  9.       ,  9.       ],\n",
       "       [ 4.       , 16.       ,  9.       ,  9.       ],\n",
       "       [ 4.       ,  4.       , 16.       ,  9.8696044],\n",
       "       [ 4.       ,  4.       ,  4.       ,  0.25     ]])"
      ]
     },
     "execution_count": 20,
     "metadata": {},
     "output_type": "execute_result"
    }
   ],
   "source": [
    "A**2#  la matrice contenant les carrés des élmenents de A. "
   ]
  },
  {
   "cell_type": "code",
   "execution_count": 21,
   "metadata": {},
   "outputs": [
    {
     "data": {
      "text/plain": [
       "array([[34.        , 36.        , 39.        , 31.92477796],\n",
       "       [28.        , 34.        , 36.        , 28.92477796],\n",
       "       [26.28318531, 28.28318531, 34.28318531, 26.13716694],\n",
       "       [17.        , 19.        , 21.        , 18.53318531]])"
      ]
     },
     "execution_count": 21,
     "metadata": {},
     "output_type": "execute_result"
    }
   ],
   "source": [
    "A.dot(A) # ou A @ A ou np.linalg.matrix_power(A, 2) #    A^2"
   ]
  },
  {
   "cell_type": "code",
   "execution_count": 27,
   "metadata": {},
   "outputs": [
    {
     "name": "stdout",
     "output_type": "stream",
     "text": [
      "A5= [[39976.72454163 44560.18910578 49661.50322586 40080.90914335]\n",
      " [35855.10953339 39976.72454163 44560.18910578 35959.74806912]\n",
      " [32482.16861957 36199.34163287 40360.18720374 32569.71511652]\n",
      " [21197.78949703 23628.93327993 26337.14343345 21251.79436139]]\n"
     ]
    }
   ],
   "source": [
    "A5 = np.linalg.matrix_power(A, 5)\n",
    "print('A5=',A5)"
   ]
  },
  {
   "cell_type": "markdown",
   "metadata": {
    "id": "GGRT5fbf0s13"
   },
   "source": [
    "13. Afficher  la matrice transposée de $A$."
   ]
  },
  {
   "cell_type": "code",
   "execution_count": 28,
   "metadata": {
    "colab": {
     "base_uri": "https://localhost:8080/"
    },
    "executionInfo": {
     "elapsed": 385,
     "status": "ok",
     "timestamp": 1633083553472,
     "user": {
      "displayName": "Bilel Charfi",
      "photoUrl": "https://lh3.googleusercontent.com/a-/AOh14GiwZ0IqhBxzHZ-ghqODbdAGcqAm32dDwZNnRvMz=s64",
      "userId": "09763497550800656523"
     },
     "user_tz": -60
    },
    "id": "_nAbbrzF0s14",
    "outputId": "bd9e487d-52e4-4d81-fc62-156c9dc3586b"
   },
   "outputs": [
    {
     "name": "stdout",
     "output_type": "stream",
     "text": [
      "[[4.         2.         2.         2.        ]\n",
      " [3.         4.         2.         2.        ]\n",
      " [3.         3.         4.         2.        ]\n",
      " [3.         3.         3.14159265 0.5       ]]\n"
     ]
    }
   ],
   "source": [
    "# 1ére méthode\n",
    "print(A.transpose())"
   ]
  },
  {
   "cell_type": "code",
   "execution_count": 29,
   "metadata": {
    "colab": {
     "base_uri": "https://localhost:8080/"
    },
    "executionInfo": {
     "elapsed": 373,
     "status": "ok",
     "timestamp": 1633083558035,
     "user": {
      "displayName": "Bilel Charfi",
      "photoUrl": "https://lh3.googleusercontent.com/a-/AOh14GiwZ0IqhBxzHZ-ghqODbdAGcqAm32dDwZNnRvMz=s64",
      "userId": "09763497550800656523"
     },
     "user_tz": -60
    },
    "id": "X7R6QglR0s15",
    "outputId": "8a550c85-94c7-4691-e595-705f9c988508"
   },
   "outputs": [
    {
     "name": "stdout",
     "output_type": "stream",
     "text": [
      "[[4.         2.         2.         2.        ]\n",
      " [3.         4.         2.         2.        ]\n",
      " [3.         3.         4.         2.        ]\n",
      " [3.         3.         3.14159265 0.5       ]]\n"
     ]
    }
   ],
   "source": [
    "#2 ème méthode\n",
    "print(A.T)"
   ]
  },
  {
   "cell_type": "markdown",
   "metadata": {
    "id": "omgxRzuv0s15"
   },
   "source": [
    "14. Construire une matrice diagonale $C$ contenant  le vecteur $[-2,1,2]$ sur la diagonale."
   ]
  },
  {
   "cell_type": "code",
   "execution_count": 30,
   "metadata": {
    "colab": {
     "base_uri": "https://localhost:8080/"
    },
    "executionInfo": {
     "elapsed": 375,
     "status": "ok",
     "timestamp": 1633083609330,
     "user": {
      "displayName": "Bilel Charfi",
      "photoUrl": "https://lh3.googleusercontent.com/a-/AOh14GiwZ0IqhBxzHZ-ghqODbdAGcqAm32dDwZNnRvMz=s64",
      "userId": "09763497550800656523"
     },
     "user_tz": -60
    },
    "id": "Ea_EBVfD0s16",
    "outputId": "4d073289-a37d-4e80-91a9-24c746ebda42"
   },
   "outputs": [
    {
     "name": "stdout",
     "output_type": "stream",
     "text": [
      "[[-2  0  0]\n",
      " [ 0  1  0]\n",
      " [ 0  0  2]]\n"
     ]
    }
   ],
   "source": [
    "U= [-2,1,2]\n",
    "C=np.diagflat(U)\n",
    "print(C)"
   ]
  },
  {
   "cell_type": "markdown",
   "metadata": {
    "id": "1bDvdV8t0s17"
   },
   "source": [
    "15. Construire $D$ une matrice diagonale dont sa diagonale est celle de la matrice $A$."
   ]
  },
  {
   "cell_type": "code",
   "execution_count": 31,
   "metadata": {
    "colab": {
     "base_uri": "https://localhost:8080/"
    },
    "executionInfo": {
     "elapsed": 372,
     "status": "ok",
     "timestamp": 1633083738674,
     "user": {
      "displayName": "Bilel Charfi",
      "photoUrl": "https://lh3.googleusercontent.com/a-/AOh14GiwZ0IqhBxzHZ-ghqODbdAGcqAm32dDwZNnRvMz=s64",
      "userId": "09763497550800656523"
     },
     "user_tz": -60
    },
    "id": "r5Ijyv_Y0s2H",
    "outputId": "5fb504cf-0dc2-435c-c6e0-3ccfb4615db7"
   },
   "outputs": [
    {
     "name": "stdout",
     "output_type": "stream",
     "text": [
      "[[4.  0.  0.  0. ]\n",
      " [0.  4.  0.  0. ]\n",
      " [0.  0.  4.  0. ]\n",
      " [0.  0.  0.  0.5]]\n"
     ]
    }
   ],
   "source": [
    "D=np.diagflat(np.diag(A))\n",
    "print(D)"
   ]
  },
  {
   "cell_type": "markdown",
   "metadata": {
    "id": "etrR_1Bw0s2I"
   },
   "source": [
    "**Activité  (asynchrone)**  \n",
    "\n",
    "Exécuter et commenter"
   ]
  },
  {
   "cell_type": "code",
   "execution_count": 32,
   "metadata": {
    "colab": {
     "base_uri": "https://localhost:8080/"
    },
    "executionInfo": {
     "elapsed": 404,
     "status": "ok",
     "timestamp": 1633083836337,
     "user": {
      "displayName": "Bilel Charfi",
      "photoUrl": "https://lh3.googleusercontent.com/a-/AOh14GiwZ0IqhBxzHZ-ghqODbdAGcqAm32dDwZNnRvMz=s64",
      "userId": "09763497550800656523"
     },
     "user_tz": -60
    },
    "id": "hX69rralYbaq",
    "outputId": "256ca04a-3887-42fb-96a6-903394af050c"
   },
   "outputs": [
    {
     "data": {
      "text/plain": [
       "array([[4.        , 3.        , 3.        , 3.        ],\n",
       "       [2.        , 4.        , 3.        , 3.        ],\n",
       "       [2.        , 2.        , 4.        , 3.14159265],\n",
       "       [2.        , 2.        , 2.        , 0.5       ]])"
      ]
     },
     "execution_count": 32,
     "metadata": {},
     "output_type": "execute_result"
    }
   ],
   "source": [
    "A"
   ]
  },
  {
   "cell_type": "code",
   "execution_count": 33,
   "metadata": {
    "colab": {
     "base_uri": "https://localhost:8080/"
    },
    "executionInfo": {
     "elapsed": 359,
     "status": "ok",
     "timestamp": 1633084345778,
     "user": {
      "displayName": "Bilel Charfi",
      "photoUrl": "https://lh3.googleusercontent.com/a-/AOh14GiwZ0IqhBxzHZ-ghqODbdAGcqAm32dDwZNnRvMz=s64",
      "userId": "09763497550800656523"
     },
     "user_tz": -60
    },
    "id": "wXZKYqeN0s2K",
    "outputId": "1687bc91-6a6a-4a16-815d-222826d5d6be"
   },
   "outputs": [
    {
     "name": "stdout",
     "output_type": "stream",
     "text": [
      "[[2.  1.5 1.5 0. ]\n",
      " [1.  2.  1.5 0.5]\n",
      " [1.  1.  2.  1.5]\n",
      " [0.5 0.5 0.5 3. ]]\n"
     ]
    }
   ],
   "source": [
    "#np.trace(A)\n",
    "#np.sum(A)\n",
    "#np.argmax(A,axis=0)\n",
    "#print(np.triu(A,-1))\n",
    "print(B/2)\n",
    "#print(B-4)\n",
    "#print(B*2)\n",
    "#print(np.sqrt(B))\n",
    "#print(-B)"
   ]
  },
  {
   "cell_type": "markdown",
   "metadata": {
    "id": "webwwPih0s2K"
   },
   "source": [
    "### Matrices particulières"
   ]
  },
  {
   "cell_type": "markdown",
   "metadata": {
    "id": "l-OD4Qrq0s2L"
   },
   "source": [
    "1. Matrice identité:"
   ]
  },
  {
   "cell_type": "code",
   "execution_count": 34,
   "metadata": {
    "colab": {
     "base_uri": "https://localhost:8080/"
    },
    "executionInfo": {
     "elapsed": 377,
     "status": "ok",
     "timestamp": 1633084410055,
     "user": {
      "displayName": "Bilel Charfi",
      "photoUrl": "https://lh3.googleusercontent.com/a-/AOh14GiwZ0IqhBxzHZ-ghqODbdAGcqAm32dDwZNnRvMz=s64",
      "userId": "09763497550800656523"
     },
     "user_tz": -60
    },
    "id": "AyNVUTmo0s2M",
    "outputId": "d0ec952e-d655-465d-922c-bde752ec8abb"
   },
   "outputs": [
    {
     "name": "stdout",
     "output_type": "stream",
     "text": [
      "[[1. 0. 0. 0.]\n",
      " [0. 1. 0. 0.]\n",
      " [0. 0. 1. 0.]\n",
      " [0. 0. 0. 1.]]\n"
     ]
    }
   ],
   "source": [
    "#1 ére méthode\n",
    "I=np.identity(4) \n",
    "print(I)"
   ]
  },
  {
   "cell_type": "code",
   "execution_count": 35,
   "metadata": {
    "colab": {
     "base_uri": "https://localhost:8080/"
    },
    "executionInfo": {
     "elapsed": 361,
     "status": "ok",
     "timestamp": 1633084512375,
     "user": {
      "displayName": "Bilel Charfi",
      "photoUrl": "https://lh3.googleusercontent.com/a-/AOh14GiwZ0IqhBxzHZ-ghqODbdAGcqAm32dDwZNnRvMz=s64",
      "userId": "09763497550800656523"
     },
     "user_tz": -60
    },
    "id": "M8xjcWyi0s2N",
    "outputId": "60fabb12-a5f2-4e37-ccc9-730640c295be"
   },
   "outputs": [
    {
     "name": "stdout",
     "output_type": "stream",
     "text": [
      "[[1. 0. 0.]\n",
      " [0. 1. 0.]\n",
      " [0. 0. 1.]]\n"
     ]
    }
   ],
   "source": [
    "# 2 ème méthode\n",
    "J= np.eye(3)\n",
    "print(J)"
   ]
  },
  {
   "cell_type": "markdown",
   "metadata": {
    "id": "CGuhA76K0s2P"
   },
   "source": [
    "2. Matrice nulle d'ordre $n*p$."
   ]
  },
  {
   "cell_type": "code",
   "execution_count": 36,
   "metadata": {
    "colab": {
     "base_uri": "https://localhost:8080/"
    },
    "executionInfo": {
     "elapsed": 370,
     "status": "ok",
     "timestamp": 1633084553492,
     "user": {
      "displayName": "Bilel Charfi",
      "photoUrl": "https://lh3.googleusercontent.com/a-/AOh14GiwZ0IqhBxzHZ-ghqODbdAGcqAm32dDwZNnRvMz=s64",
      "userId": "09763497550800656523"
     },
     "user_tz": -60
    },
    "id": "xgLcUXhd0s2Q",
    "outputId": "3729800f-1cba-4b29-8210-81e1d8e8940a"
   },
   "outputs": [
    {
     "name": "stdout",
     "output_type": "stream",
     "text": [
      "[[0 0]\n",
      " [0 0]\n",
      " [0 0]]\n"
     ]
    }
   ],
   "source": [
    "O=np.zeros((3,2),int) # nombre de ligne, nombre de colonnes et de type entier\n",
    "print(O)"
   ]
  },
  {
   "cell_type": "markdown",
   "metadata": {
    "id": "KCR825tp0s2Q"
   },
   "source": [
    "3. Matrice composée des $1$ d'ordre $n*p$."
   ]
  },
  {
   "cell_type": "code",
   "execution_count": 37,
   "metadata": {
    "colab": {
     "base_uri": "https://localhost:8080/"
    },
    "executionInfo": {
     "elapsed": 85,
     "status": "ok",
     "timestamp": 1632739072424,
     "user": {
      "displayName": "Aymen HASSIN",
      "photoUrl": "https://lh3.googleusercontent.com/a/default-user=s64",
      "userId": "11628973066225089700"
     },
     "user_tz": -120
    },
    "id": "aXPIkQYD0s2Q",
    "outputId": "509283a0-2407-47f5-eb6f-ccdd5338b11d"
   },
   "outputs": [
    {
     "name": "stdout",
     "output_type": "stream",
     "text": [
      "[[1. 1. 1. 1. 1.]\n",
      " [1. 1. 1. 1. 1.]\n",
      " [1. 1. 1. 1. 1.]\n",
      " [1. 1. 1. 1. 1.]]\n"
     ]
    }
   ],
   "source": [
    "U=np.ones((4,5),float)# nombre de ligne, nombre de colonnes et de type float\n",
    "print(U)"
   ]
  },
  {
   "cell_type": "markdown",
   "metadata": {
    "id": "4qd2qnO70s2R"
   },
   "source": [
    "4. La fonction `.reshape(n,m)` permet de transformer une matrice de dimension `(p,k)` en une matrice de dimension `(n,m)` \n",
    "à condition que   `p*k=n*m`"
   ]
  },
  {
   "cell_type": "code",
   "execution_count": 38,
   "metadata": {
    "colab": {
     "base_uri": "https://localhost:8080/"
    },
    "executionInfo": {
     "elapsed": 393,
     "status": "ok",
     "timestamp": 1633084604685,
     "user": {
      "displayName": "Bilel Charfi",
      "photoUrl": "https://lh3.googleusercontent.com/a-/AOh14GiwZ0IqhBxzHZ-ghqODbdAGcqAm32dDwZNnRvMz=s64",
      "userId": "09763497550800656523"
     },
     "user_tz": -60
    },
    "id": "Fy3B3rLk0s2S",
    "outputId": "6aae03dc-e4fc-4841-83a4-961346544af9"
   },
   "outputs": [
    {
     "name": "stdout",
     "output_type": "stream",
     "text": [
      "[[1 2 3 4]\n",
      " [2 3 0 6]]\n",
      "[[1 2]\n",
      " [3 4]\n",
      " [2 3]\n",
      " [0 6]]\n"
     ]
    }
   ],
   "source": [
    "mat=np.array([[1,2,3,4],[2,3,0,6]])\n",
    "print(mat)\n",
    "Mat=mat.reshape(4,2)\n",
    "print(Mat)"
   ]
  },
  {
   "cell_type": "markdown",
   "metadata": {
    "id": "GFLecbCA0s2T"
   },
   "source": [
    "**Remarque**\n",
    "\n",
    "Pour calculer un déterminant, inverser une matrice, résoudre un système d'équations linéaires, etc $\\dots$, \n",
    "\n",
    "nous faisons appel au sous module `.linalg` de numpy\n",
    "\n"
   ]
  },
  {
   "cell_type": "markdown",
   "metadata": {
    "id": "MQgqweMf0s2T"
   },
   "source": [
    "**Exercice (10):  Résolution d'un système de Cramer.**"
   ]
  },
  {
   "cell_type": "markdown",
   "metadata": {
    "id": "ggXwHNG-0s2U"
   },
   "source": [
    "Soit le système d'équations linéaires suivant : $MX=b$, avec :\n",
    "\n",
    "$$M=\\begin{pmatrix}\n",
    "4 & -1 & -1 & 0 \\\\\n",
    "      -1 & 4 &  0 & -1 \\\\\n",
    "      -1 & 0 & 4 & -1 \\\\\n",
    "      0 & -1 & -1 & 4\\\\\n",
    "    \\end{pmatrix}, \\; X=\\begin{pmatrix}\n",
    "x_1 \\\\\n",
    "      x_2 \\\\\n",
    "      x_3 \\\\\n",
    "      x_4\\\\\n",
    "    \\end{pmatrix},\\; \\mbox{et} \\;  b=\\begin{pmatrix}\n",
    "50 \\\\\n",
    "      30 \\\\\n",
    "      70 \\\\\n",
    "      50\\\\\n",
    "    \\end{pmatrix},$$\n",
    "    "
   ]
  },
  {
   "cell_type": "markdown",
   "metadata": {
    "id": "CPsxrYFW0s2U"
   },
   "source": [
    " 1.  Ecrire les matrices $M$ et $b$."
   ]
  },
  {
   "cell_type": "code",
   "execution_count": 45,
   "metadata": {
    "colab": {
     "base_uri": "https://localhost:8080/"
    },
    "executionInfo": {
     "elapsed": 505,
     "status": "ok",
     "timestamp": 1633085527294,
     "user": {
      "displayName": "Bilel Charfi",
      "photoUrl": "https://lh3.googleusercontent.com/a-/AOh14GiwZ0IqhBxzHZ-ghqODbdAGcqAm32dDwZNnRvMz=s64",
      "userId": "09763497550800656523"
     },
     "user_tz": -60
    },
    "id": "a9i3ta5O0s2V",
    "outputId": "b639057c-0a6d-4f6a-fc69-61d802f8a643"
   },
   "outputs": [
    {
     "data": {
      "text/plain": [
       "(array([[ 4., -1., -1.,  0.],\n",
       "        [-1.,  4.,  0., -1.],\n",
       "        [-1.,  0.,  4., -1.],\n",
       "        [ 0., -1., -1.,  4.]]),\n",
       " array([50, 30, 70, 50]))"
      ]
     },
     "execution_count": 45,
     "metadata": {},
     "output_type": "execute_result"
    }
   ],
   "source": [
    "#1ere méthode\n",
    "#M=np.array([[4,-1,-1,0],[-1,4,0,-1],[-1,0,4,-1],[0,-1,-1,4]])\n",
    "#b=np.array([50,30,70,50])\n",
    "#2éme méthode\n",
    "#saisie par utilisation des matrices particulieres \n",
    "M=5*np.eye(4)-np.ones((4,4))\n",
    "[M[0,3],M[1,2],M[2,1],M[3,0]]=np.zeros(4)\n",
    "b=np.array([50,30,70,50])\n",
    "M,b\n"
   ]
  },
  {
   "cell_type": "markdown",
   "metadata": {
    "id": "ZwAnVhHC0s2W"
   },
   "source": [
    "2.  Montrer que le système est de Cramer."
   ]
  },
  {
   "cell_type": "code",
   "execution_count": 41,
   "metadata": {
    "colab": {
     "base_uri": "https://localhost:8080/"
    },
    "executionInfo": {
     "elapsed": 352,
     "status": "ok",
     "timestamp": 1633085645904,
     "user": {
      "displayName": "Bilel Charfi",
      "photoUrl": "https://lh3.googleusercontent.com/a-/AOh14GiwZ0IqhBxzHZ-ghqODbdAGcqAm32dDwZNnRvMz=s64",
      "userId": "09763497550800656523"
     },
     "user_tz": -60
    },
    "id": "rizqwH5z0s2W",
    "outputId": "ce185e13-0483-4669-c8f1-5aece0cd6e1a"
   },
   "outputs": [
    {
     "data": {
      "text/plain": [
       "192.0"
      ]
     },
     "execution_count": 41,
     "metadata": {},
     "output_type": "execute_result"
    }
   ],
   "source": [
    "#on vérifie que det(A)#0\n",
    "np.linalg.det(M)"
   ]
  },
  {
   "cell_type": "markdown",
   "metadata": {
    "id": "mPWBTWIz0s2W"
   },
   "source": [
    " 3.  Résoudre le système"
   ]
  },
  {
   "cell_type": "code",
   "execution_count": 42,
   "metadata": {
    "colab": {
     "base_uri": "https://localhost:8080/"
    },
    "executionInfo": {
     "elapsed": 568,
     "status": "ok",
     "timestamp": 1633085685838,
     "user": {
      "displayName": "Bilel Charfi",
      "photoUrl": "https://lh3.googleusercontent.com/a-/AOh14GiwZ0IqhBxzHZ-ghqODbdAGcqAm32dDwZNnRvMz=s64",
      "userId": "09763497550800656523"
     },
     "user_tz": -60
    },
    "id": "iUtUiYDZ0s2X",
    "outputId": "eca21122-44c2-4f1f-cdc3-8b69e848c5f4"
   },
   "outputs": [
    {
     "data": {
      "text/plain": [
       "array([25., 20., 30., 25.])"
      ]
     },
     "execution_count": 42,
     "metadata": {},
     "output_type": "execute_result"
    }
   ],
   "source": [
    "# X=M^-1 b\n",
    "X=np.linalg.inv(M).dot(b)\n",
    "X"
   ]
  },
  {
   "cell_type": "markdown",
   "metadata": {
    "id": "xVxKmfcS0s2a"
   },
   "source": [
    "## `np.arange()` et `np.linspace` "
   ]
  },
  {
   "cell_type": "markdown",
   "metadata": {
    "id": "t6g_p7m20s2a"
   },
   "source": [
    "\n",
    "- **Les fonctions `np.arange()` et `np.linspace` retournent un objet de type `numpy.ndarray`.**"
   ]
  },
  {
   "cell_type": "markdown",
   "metadata": {
    "id": "NkVWaY2-0s2b"
   },
   "source": [
    "- `np.arange(n,m)` permet d’obtenir un tableau 1D de la valeur de départ `n` à la valeur de fin `m-1` avec un pas `1`."
   ]
  },
  {
   "cell_type": "code",
   "execution_count": null,
   "metadata": {
    "id": "_b4oVx1D0s2c"
   },
   "outputs": [],
   "source": [
    "#np.arange(2,8)"
   ]
  },
  {
   "cell_type": "markdown",
   "metadata": {
    "id": "1R6gwTAv0s2d"
   },
   "source": [
    "- `np.arange(m)` permet d’obtenir un tableau 1D de la valeur de départ `0` à la valeur de fin `m-1` avec un pas `1`."
   ]
  },
  {
   "cell_type": "code",
   "execution_count": null,
   "metadata": {
    "id": "XPEfXU410s2d"
   },
   "outputs": [],
   "source": [
    "#np.arange(8)"
   ]
  },
  {
   "cell_type": "markdown",
   "metadata": {
    "id": "mm9WCBtO0s2e"
   },
   "source": [
    "- `np.arange(n,m,p)` permet d’obtenir un tableau 1D de la valeur de départ `n` à la valeur de fin `m-1` avec un pas `p`."
   ]
  },
  {
   "cell_type": "code",
   "execution_count": null,
   "metadata": {
    "id": "dIgJw8EM0s2e"
   },
   "outputs": [],
   "source": [
    "#np.arange(2,8,2)"
   ]
  },
  {
   "cell_type": "markdown",
   "metadata": {
    "id": "-kakIkNI0s2f"
   },
   "source": [
    "- `np.linspace(n,m,p)`  permet d’obtenir un tableau 1D contenant p coefficient allant d’une valeur de départ `n` à une valeur de fin `m`."
   ]
  },
  {
   "cell_type": "code",
   "execution_count": null,
   "metadata": {
    "id": "sEZdQXFp0s2f"
   },
   "outputs": [],
   "source": [
    "#np.linspace(-1,1,5)"
   ]
  },
  {
   "cell_type": "markdown",
   "metadata": {
    "id": "4SyYjODd0s2g"
   },
   "source": [
    "**Exercice(11) : (synchrone)**    \n",
    "- Ecrire une fonction ``def_mat`` qui prend à l’entrée un entier $n≥2$ et affiche la matrice $A$ définie par $A=(a_{ij})_{i,j\\in\\{1,...,n\\}}$  tel que \n",
    "\n",
    "\n",
    "$$a_{ij}=\\left \\{\n",
    "\\begin{array}{rcl}\n",
    "i+j+1 \\quad \\textrm{si} \\quad i>j\\\\\n",
    "i+j-1 \\quad \\textrm{si} \\quad i<j\\\\\n",
    "i \\quad \\textrm{si } \\quad i=j\n",
    "\\end{array}\n",
    "\\right.$$ "
   ]
  },
  {
   "cell_type": "code",
   "execution_count": null,
   "metadata": {
    "colab": {
     "base_uri": "https://localhost:8080/"
    },
    "executionInfo": {
     "elapsed": 59,
     "status": "ok",
     "timestamp": 1632739072429,
     "user": {
      "displayName": "Aymen HASSIN",
      "photoUrl": "https://lh3.googleusercontent.com/a/default-user=s64",
      "userId": "11628973066225089700"
     },
     "user_tz": -120
    },
    "id": "jbRAxXCq0s2h",
    "outputId": "a71cbb5b-0ea6-41ba-e8d2-fdbafc4bb387"
   },
   "outputs": [
    {
     "data": {
      "text/plain": [
       "array([[1., 2., 3.],\n",
       "       [4., 2., 4.],\n",
       "       [5., 6., 3.]])"
      ]
     },
     "execution_count": 38,
     "metadata": {},
     "output_type": "execute_result"
    }
   ],
   "source": [
    "#Correction\n",
    "#1ère méthode\n",
    "import numpy as np\n",
    "def def_mat(n):\n",
    "    a=np.zeros((n,n))\n",
    "    for i in np.arange(n):\n",
    "        for j in np.arange(n):\n",
    "            if i>j:\n",
    "                a[i,j]=i+j+3 #il faut prendre en considération l'indexation de i et j sous python\n",
    "            elif i<j:\n",
    "                 a[i,j]=i+j+1 \n",
    "            else:\n",
    "                a[i,j]=i+1\n",
    "    return a\n",
    "def_mat(3)\n"
   ]
  },
  {
   "cell_type": "code",
   "execution_count": null,
   "metadata": {
    "colab": {
     "base_uri": "https://localhost:8080/"
    },
    "executionInfo": {
     "elapsed": 56,
     "status": "ok",
     "timestamp": 1632739072430,
     "user": {
      "displayName": "Aymen HASSIN",
      "photoUrl": "https://lh3.googleusercontent.com/a/default-user=s64",
      "userId": "11628973066225089700"
     },
     "user_tz": -120
    },
    "id": "oUSc_9hf0s2h",
    "outputId": "ca185de6-ad43-4d10-ebf1-03f8252abaea"
   },
   "outputs": [
    {
     "data": {
      "text/plain": [
       "array([[1, 2, 3],\n",
       "       [4, 2, 4],\n",
       "       [5, 6, 3]])"
      ]
     },
     "execution_count": 39,
     "metadata": {},
     "output_type": "execute_result"
    }
   ],
   "source": [
    "#2ème méthode\n",
    "# pour minimiser les opérations d'affectation, on peut commencer par une matrice diagonale à l'aide de la commande diag() de la bibliothèque numpy\n",
    "import numpy as np\n",
    "def def_mat1(n):\n",
    "    a=np.diag([i for i in np.arange(1,n+1)])\n",
    "    for i in np.arange(n):\n",
    "        for j in np.arange(n):\n",
    "            if i>j:\n",
    "                a[i,j]=i+j+3 \n",
    "            elif i<j:\n",
    "                 a[i,j]=i+j+1 \n",
    "    return a\n",
    "def_mat1(3)"
   ]
  },
  {
   "cell_type": "markdown",
   "metadata": {
    "id": "x0w0lWD50s2i"
   },
   "source": [
    "# Partie II : Représentations graphiques sous Python   \n",
    "Nous importons la bibliothèque `matplotlib.pyplot`  \n"
   ]
  },
  {
   "cell_type": "code",
   "execution_count": 47,
   "metadata": {
    "id": "DPNxCdX60s2j"
   },
   "outputs": [],
   "source": [
    "import matplotlib.pyplot as plt\n"
   ]
  },
  {
   "cell_type": "markdown",
   "metadata": {
    "id": "etcIu2U50s2k"
   },
   "source": [
    "**Tracer des lignes**  \n",
    "\n",
    "Pour tracer des lignes, nous devons utiliser la commande **plot** du module **pyplot**. Elle peut ne prendre aucun \n",
    "\n",
    "argument. En effet, si nous lui passons une liste **[a, b, c]** en argument, elle reliera le points **A(0, a)** au \n",
    "\n",
    "point **B(1, b)** et ce point B au point **C(2, c)**. En fait, nous fournissons les ordonnées dans une liste, et les \n",
    "\n",
    "abscisses, elles, sont automatiquement générées et vont de **0** à **len(liste) - 1**. Ainsi, le code suivant…"
   ]
  },
  {
   "cell_type": "code",
   "execution_count": 48,
   "metadata": {
    "colab": {
     "base_uri": "https://localhost:8080/",
     "height": 283
    },
    "executionInfo": {
     "elapsed": 56,
     "status": "ok",
     "timestamp": 1632739072431,
     "user": {
      "displayName": "Aymen HASSIN",
      "photoUrl": "https://lh3.googleusercontent.com/a/default-user=s64",
      "userId": "11628973066225089700"
     },
     "user_tz": -120
    },
    "id": "t8lYCSIE0s2k",
    "outputId": "090b4fb4-5f28-43f2-f57f-c550d83c51cc"
   },
   "outputs": [
    {
     "data": {
      "text/plain": [
       "[<matplotlib.lines.Line2D at 0x18becbd89a0>]"
      ]
     },
     "execution_count": 48,
     "metadata": {},
     "output_type": "execute_result"
    },
    {
     "data": {
      "image/png": "[encoded data removed]",
      "text/plain": [
       "<Figure size 432x288 with 1 Axes>"
      ]
     },
     "metadata": {
      "needs_background": "light"
     },
     "output_type": "display_data"
    }
   ],
   "source": [
    "plt.plot([0, 1, 2]) "
   ]
  },
  {
   "cell_type": "markdown",
   "metadata": {
    "id": "EnFSGjaE0s2l"
   },
   "source": [
    "Permet d’obtenir la droite passant par les points A(0, 0), B(1, 1) et C(2, 2). Au contraire, le code…"
   ]
  },
  {
   "cell_type": "code",
   "execution_count": 49,
   "metadata": {
    "colab": {
     "base_uri": "https://localhost:8080/",
     "height": 283
    },
    "executionInfo": {
     "elapsed": 1110,
     "status": "ok",
     "timestamp": 1632739073491,
     "user": {
      "displayName": "Aymen HASSIN",
      "photoUrl": "https://lh3.googleusercontent.com/a/default-user=s64",
      "userId": "11628973066225089700"
     },
     "user_tz": -120
    },
    "id": "X74lE1-T0s2m",
    "outputId": "4153675f-e0f2-48c3-fc18-236813a91612"
   },
   "outputs": [
    {
     "data": {
      "text/plain": [
       "[<matplotlib.lines.Line2D at 0x18becc60430>]"
      ]
     },
     "execution_count": 49,
     "metadata": {},
     "output_type": "execute_result"
    },
    {
     "data": {
      "image/png": "[encoded data removed]",
      "text/plain": [
       "<Figure size 432x288 with 1 Axes>"
      ]
     },
     "metadata": {
      "needs_background": "light"
     },
     "output_type": "display_data"
    }
   ],
   "source": [
    "plt.plot([1, 0, 2])\n"
   ]
  },
  {
   "cell_type": "markdown",
   "metadata": {
    "id": "I-8qRHn00s2m"
   },
   "source": [
    "permet d’obtenir les droites passants par les points A(0, 1), B(1, 0) et C(2, 2)"
   ]
  },
  {
   "cell_type": "markdown",
   "metadata": {
    "id": "Tu95mCKa0s2n"
   },
   "source": [
    "**Tracer une figure**  \n",
    "\n",
    "Cependant, on peut aussi passer deux listes en arguments à plot. La première liste correspondra à la liste des \n",
    "\n",
    "abscisses des points qu'on veule  relier et la seconde à la liste de leurs ordonnées. Ainsi, le code précédent \n",
    "\n",
    "pourrait être le suivant."
   ]
  },
  {
   "cell_type": "code",
   "execution_count": 50,
   "metadata": {
    "colab": {
     "base_uri": "https://localhost:8080/",
     "height": 283
    },
    "executionInfo": {
     "elapsed": 92,
     "status": "ok",
     "timestamp": 1632739073494,
     "user": {
      "displayName": "Aymen HASSIN",
      "photoUrl": "https://lh3.googleusercontent.com/a/default-user=s64",
      "userId": "11628973066225089700"
     },
     "user_tz": -120
    },
    "id": "V6VE9GJn0s2o",
    "outputId": "77ff5ef2-e9bf-4641-8ad3-aa80952802d2"
   },
   "outputs": [
    {
     "data": {
      "text/plain": [
       "[<matplotlib.lines.Line2D at 0x18beccd8b80>]"
      ]
     },
     "execution_count": 50,
     "metadata": {},
     "output_type": "execute_result"
    },
    {
     "data": {
      "image/png": "[encoded data removed]",
      "text/plain": [
       "<Figure size 432x288 with 1 Axes>"
      ]
     },
     "metadata": {
      "needs_background": "light"
     },
     "output_type": "display_data"
    }
   ],
   "source": [
    "x = [0, 1, 2]\n",
    "y = [1, 0, 2]\n",
    "plt.plot(x, y)"
   ]
  },
  {
   "cell_type": "markdown",
   "metadata": {
    "id": "qYhqMEBk0s2p"
   },
   "source": [
    "**Exercice (10)**  \n",
    "dessiner le triangle ABC avec A(0, 0), B(1, 1) et C(-1, 1)."
   ]
  },
  {
   "cell_type": "code",
   "execution_count": 51,
   "metadata": {
    "colab": {
     "base_uri": "https://localhost:8080/",
     "height": 283
    },
    "executionInfo": {
     "elapsed": 75,
     "status": "ok",
     "timestamp": 1632739073497,
     "user": {
      "displayName": "Aymen HASSIN",
      "photoUrl": "https://lh3.googleusercontent.com/a/default-user=s64",
      "userId": "11628973066225089700"
     },
     "user_tz": -120
    },
    "id": "82AdC0QS0s2p",
    "outputId": "6b0b3ad0-74f2-4c6d-a907-31bac5d6977c"
   },
   "outputs": [
    {
     "data": {
      "text/plain": [
       "[<matplotlib.lines.Line2D at 0x18becd41370>]"
      ]
     },
     "execution_count": 51,
     "metadata": {},
     "output_type": "execute_result"
    },
    {
     "data": {
      "image/png": "[encoded data removed]",
      "text/plain": [
       "<Figure size 432x288 with 1 Axes>"
      ]
     },
     "metadata": {
      "needs_background": "light"
     },
     "output_type": "display_data"
    }
   ],
   "source": [
    "x = [0, 1, -1, 0]\n",
    "y = [0, 1, 1, 0]\n",
    "plt.plot(x, y)"
   ]
  },
  {
   "cell_type": "markdown",
   "metadata": {
    "id": "tMnt1Xew0s2q"
   },
   "source": [
    "**Tracer une fonction mathématique** "
   ]
  },
  {
   "cell_type": "markdown",
   "metadata": {
    "id": "kFR4pIbP0s2q"
   },
   "source": [
    "Tracer la fonction `sin()` sur $[0,2\\pi]$.  "
   ]
  },
  {
   "cell_type": "code",
   "execution_count": 52,
   "metadata": {
    "colab": {
     "base_uri": "https://localhost:8080/",
     "height": 283
    },
    "executionInfo": {
     "elapsed": 59,
     "status": "ok",
     "timestamp": 1632739073500,
     "user": {
      "displayName": "Aymen HASSIN",
      "photoUrl": "https://lh3.googleusercontent.com/a/default-user=s64",
      "userId": "11628973066225089700"
     },
     "user_tz": -120
    },
    "id": "fnWc-_ir0s2r",
    "outputId": "c7627f0f-70a1-488d-ad9c-ce27c64552e9"
   },
   "outputs": [
    {
     "data": {
      "text/plain": [
       "[<matplotlib.lines.Line2D at 0x18becd93a30>]"
      ]
     },
     "execution_count": 52,
     "metadata": {},
     "output_type": "execute_result"
    },
    {
     "data": {
      "image/png": "[encoded data removed]",
      "text/plain": [
       "<Figure size 432x288 with 1 Axes>"
      ]
     },
     "metadata": {
      "needs_background": "light"
     },
     "output_type": "display_data"
    }
   ],
   "source": [
    "import numpy as np\n",
    "x = np.arange(0, 2 * np.pi, 0.01) # On crée un array qui va de 0 à 2pi exclu avec un pas de 0.01\n",
    "plt.plot(x, np.sin(x)) # On utilise plot avec l'array x et l'array cos(x)"
   ]
  },
  {
   "cell_type": "markdown",
   "metadata": {
    "id": "98dn-mR70s2s"
   },
   "source": [
    "**Activité**  \n",
    "\n",
    "Le code suivant trace la même courbe, essayer de le commenter en utilisant toute source possible."
   ]
  },
  {
   "cell_type": "code",
   "execution_count": 53,
   "metadata": {
    "colab": {
     "base_uri": "https://localhost:8080/",
     "height": 664
    },
    "executionInfo": {
     "elapsed": 1084,
     "status": "ok",
     "timestamp": 1632741176307,
     "user": {
      "displayName": "Aymen HASSIN",
      "photoUrl": "https://lh3.googleusercontent.com/a/default-user=s64",
      "userId": "11628973066225089700"
     },
     "user_tz": -120
    },
    "id": "lN5b2k9j0s2v",
    "outputId": "3ed0489b-0458-4cba-b069-7d14753d0480"
   },
   "outputs": [
    {
     "data": {
      "image/png": "[encoded data removed]",
      "text/plain": [
       "<Figure size 1440x720 with 1 Axes>"
      ]
     },
     "metadata": {
      "needs_background": "light"
     },
     "output_type": "display_data"
    }
   ],
   "source": [
    "x=np.arange(0,2*np.pi,0.1)#abcisses\n",
    "y=np.sin(x) #ordonnées\n",
    "plt.figure(figsize=(20,10)) #dimensions de la figure\n",
    "plt.plot(x,y,'go', linewidth=5,ms=5) # tracer y en fonction de x\n",
    "plt.xlabel('observations',fontsize=30) # lengende sur l'axe des abcisses\n",
    "plt.ylabel('mesures',fontsize=30) # lengende sur l'axe des abcisses\n",
    "plt.legend(('sin(x)'),fontsize=30,loc = 0) # lengende sur l'axe des ordonnées\n",
    "plt.xticks(fontsize=20)#taille de police sur les abcisses\n",
    "plt.yticks(fontsize=20)#taille de police sur les ordonnées\n",
    "plt.title('Ma première figure', fontsize=30)\n",
    "plt.grid(True)"
   ]
  },
  {
   "cell_type": "markdown",
   "metadata": {
    "id": "-nk6DGsW0s2y"
   },
   "source": [
    "##### Références  \n",
    "\n",
    "[1] [Kiusalaas, J. (2013). Numerical methods in engineering with Python 3. Cambridge university press.](https://books.google.tn/books?hl=fr&lr=&id=YlkgAwAAQBAJ&oi=fnd&pg=PP10&dq=numerical+methods+in+engineering+&ots=-42y60OrWf&sig=wxL2oISNUKKPlvgH4-tsYh1RK9o&redir_esc=y#v=onepage&q=numerical%20methods%20in%20engineering&f=false)  \n",
    "[2] [Numpy Package](https://numpy.org/devdocs/user/quickstart.html)  \n",
    "[3] [Mathplotlib Package](https://matplotlib.org/tutorials/index.html#introductory)  \n",
    "[4] [Jupyter markdowns](http://faccanoni.univ-tln.fr/user/enseignements/20182019/M62-CM1.pdf)"
   ]
  },
  {
   "cell_type": "code",
   "execution_count": null,
   "metadata": {},
   "outputs": [],
   "source": []
  }
 ],
 "metadata": {
  "colab": {
   "name": "Correction TP0(partie2).ipynb",
   "provenance": []
  },
  "kernelspec": {
   "display_name": "Python 3",
   "language": "python",
   "name": "python3"
  },
  "language_info": {
   "codemirror_mode": {
    "name": "ipython",
    "version": 3
   },
   "file_extension": ".py",
   "mimetype": "text/x-python",
   "name": "python",
   "nbconvert_exporter": "python",
   "pygments_lexer": "ipython3",
   "version": "3.8.3"
  }
 },
 "nbformat": 4,
 "nbformat_minor": 1
}
